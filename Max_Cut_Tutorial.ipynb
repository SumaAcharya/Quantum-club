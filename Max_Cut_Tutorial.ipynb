{
  "nbformat": 4,
  "nbformat_minor": 0,
  "metadata": {
    "colab": {
      "provenance": []
    },
    "kernelspec": {
      "name": "python3",
      "display_name": "Python 3"
    },
    "language_info": {
      "name": "python"
    }
  },
  "cells": [
    {
      "cell_type": "code",
      "source": [
        "from sympy import symbols, Matrix, simplify, Add\n",
        "import networkx as nx\n",
        "import matplotlib.pyplot as plt\n",
        "from IPython.display import display\n",
        "import random"
      ],
      "metadata": {
        "id": "sUinoKLn5dbE"
      },
      "execution_count": 2,
      "outputs": []
    },
    {
      "cell_type": "code",
      "source": [
        "# def generate_problem_instance(num_nodes, weight_range=(-1, 1)):\n",
        "#     \"\"\"\n",
        "#     Generate a random problem instance for the min-cut problem.\n",
        "#     :param num_nodes: Number of nodes in the graph.\n",
        "#     :param weight_range: Range of weights for the edges (tuple, inclusive).\n",
        "#     :return: Dictionary {(i, j): weight} representing the edges and their weights.\n",
        "#     \"\"\"\n",
        "#     edge_dict = {}\n",
        "#     for i in range(1, num_nodes + 1):\n",
        "#         for j in range(i + 1, num_nodes + 1):\n",
        "#             weight = round(random.uniform(weight_range[0], weight_range[1]), 2)\n",
        "#             edge_dict[(i, j)] = weight\n",
        "#     return edge_dict"
      ],
      "metadata": {
        "id": "6aFfrORuGZJZ"
      },
      "execution_count": 3,
      "outputs": []
    },
    {
      "cell_type": "code",
      "source": [
        "# # Example usage: Generate a graph with 5 nodes\n",
        "# num_nodes = 5\n",
        "# edge_dict = generate_problem_instance(num_nodes)\n",
        "# edge_dict"
      ],
      "metadata": {
        "id": "odiqRFcnl2NS"
      },
      "execution_count": 4,
      "outputs": []
    },
    {
      "cell_type": "code",
      "execution_count": 5,
      "metadata": {
        "colab": {
          "base_uri": "https://localhost:8080/"
        },
        "id": "QqTBDAvy5bfQ",
        "outputId": "46b0cfa6-5e93-45c6-951c-173f4f9f2650"
      },
      "outputs": [
        {
          "output_type": "execute_result",
          "data": {
            "text/plain": [
              "{(1, 2): -2, (1, 3): 8, (2, 3): -3}"
            ]
          },
          "metadata": {},
          "execution_count": 5
        }
      ],
      "source": [
        "# Example dictionary input\n",
        "edge_dict = {\n",
        "    (1, 2): -2,\n",
        "    (1, 3): 8,\n",
        "    (2, 3): -3\n",
        "}\n",
        "\n",
        "edge_dict"
      ]
    },
    {
      "cell_type": "code",
      "source": [
        "nodes = set()\n",
        "\n",
        "for edge in edge_dict.keys():\n",
        "    nodes.update(edge)\n",
        "nodes = sorted(nodes)\n",
        "node_index = {node: i for i, node in enumerate(nodes)}\n",
        "\n",
        "\n",
        "size = len(nodes)\n",
        "adjacency_matrix = Matrix.zeros(size, size)\n",
        "\n",
        "\n",
        "for (u, v), weight in edge_dict.items():\n",
        "    i, j = node_index[u], node_index[v]\n",
        "    adjacency_matrix[i, j] = weight\n",
        "    adjacency_matrix[j, i] = weight  # Symmetric matrix for undirected graph"
      ],
      "metadata": {
        "id": "Dq69Vj7p5lYM"
      },
      "execution_count": 6,
      "outputs": []
    },
    {
      "cell_type": "code",
      "source": [
        "adjacency_matrix"
      ],
      "metadata": {
        "colab": {
          "base_uri": "https://localhost:8080/",
          "height": 78
        },
        "id": "eFhMyCn76u4i",
        "outputId": "9d1a1a64-8346-4906-c096-b4b086ced0b6"
      },
      "execution_count": 7,
      "outputs": [
        {
          "output_type": "execute_result",
          "data": {
            "text/plain": [
              "Matrix([\n",
              "[ 0, -2,  8],\n",
              "[-2,  0, -3],\n",
              "[ 8, -3,  0]])"
            ],
            "text/latex": "$\\displaystyle \\left[\\begin{matrix}0 & -2 & 8\\\\-2 & 0 & -3\\\\8 & -3 & 0\\end{matrix}\\right]$"
          },
          "metadata": {},
          "execution_count": 7
        }
      ]
    },
    {
      "cell_type": "code",
      "source": [
        "plt.figure(figsize=(4,4))\n",
        "G = nx.Graph()\n",
        "\n",
        "for (u, v), weight in edge_dict.items():\n",
        "    G.add_edge(u, v, weight=weight)\n",
        "\n",
        "\n",
        "# Create a fixed layout for the graph\n",
        "pos = nx.spring_layout(G, seed=111)  # Set a seed for reproducibility\n",
        "\n",
        "# Draw the graph\n",
        "nx.draw(G, pos, with_labels=True, node_color=\"lightblue\", node_size=1000)\n",
        "labels = nx.get_edge_attributes(G, 'weight')\n",
        "nx.draw_networkx_edge_labels(G, pos, edge_labels=labels, font_size=14)\n",
        "plt.title(\"Weighted Graph\")\n",
        "plt.show()"
      ],
      "metadata": {
        "colab": {
          "base_uri": "https://localhost:8080/",
          "height": 459
        },
        "id": "-AO0E0nq5yrq",
        "outputId": "ad33cc69-2bbc-44ce-f227-812f2ca6d972"
      },
      "execution_count": 8,
      "outputs": [
        {
          "output_type": "display_data",
          "data": {
            "text/plain": [
              "<Figure size 400x400 with 1 Axes>"
            ],
            "image/png": "[encoded data removed]"
          },
          "metadata": {}
        }
      ]
    },
    {
      "cell_type": "markdown",
      "source": [
        "# Formulate the QUBO Problem\n",
        "\n",
        "The MinCut problem can be written as:\n",
        "$$\n",
        "\\text{Objective: } \\min_x \\sum_{i,j} w_{ij} x_i (1 - x_j)\n",
        "$$"
      ],
      "metadata": {
        "id": "5Xv9-SKRClu5"
      }
    },
    {
      "cell_type": "code",
      "source": [
        "n = adjacency_matrix.shape[0]\n",
        "x = symbols(f\"x1:{n+1}\")\n",
        "\n",
        "for i in range(n):\n",
        "    for j in range(n):\n",
        "        display(adjacency_matrix[i, j] * x[i] * (1 - x[j]))\n",
        "\n",
        "qubo_expr = sum([adjacency_matrix[i, j] * x[i] * (1 - x[j]) for i in range(n) for j in range(n)])\n",
        "\n",
        "qubo_expr"
      ],
      "metadata": {
        "colab": {
          "base_uri": "https://localhost:8080/",
          "height": 227
        },
        "id": "7h9e98VQ6NG5",
        "outputId": "16236a30-0d56-4376-a309-1a85a19b858a"
      },
      "execution_count": 9,
      "outputs": [
        {
          "output_type": "display_data",
          "data": {
            "text/plain": [
              "0"
            ],
            "text/latex": "$\\displaystyle 0$"
          },
          "metadata": {}
        },
        {
          "output_type": "display_data",
          "data": {
            "text/plain": [
              "-2*x1*(1 - x2)"
            ],
            "text/latex": "$\\displaystyle - 2 x_{1} \\left(1 - x_{2}\\right)$"
          },
          "metadata": {}
        },
        {
          "output_type": "display_data",
          "data": {
            "text/plain": [
              "8*x1*(1 - x3)"
            ],
            "text/latex": "$\\displaystyle 8 x_{1} \\left(1 - x_{3}\\right)$"
          },
          "metadata": {}
        },
        {
          "output_type": "display_data",
          "data": {
            "text/plain": [
              "-2*x2*(1 - x1)"
            ],
            "text/latex": "$\\displaystyle - 2 x_{2} \\left(1 - x_{1}\\right)$"
          },
          "metadata": {}
        },
        {
          "output_type": "display_data",
          "data": {
            "text/plain": [
              "0"
            ],
            "text/latex": "$\\displaystyle 0$"
          },
          "metadata": {}
        },
        {
          "output_type": "display_data",
          "data": {
            "text/plain": [
              "-3*x2*(1 - x3)"
            ],
            "text/latex": "$\\displaystyle - 3 x_{2} \\left(1 - x_{3}\\right)$"
          },
          "metadata": {}
        },
        {
          "output_type": "display_data",
          "data": {
            "text/plain": [
              "8*x3*(1 - x1)"
            ],
            "text/latex": "$\\displaystyle 8 x_{3} \\left(1 - x_{1}\\right)$"
          },
          "metadata": {}
        },
        {
          "output_type": "display_data",
          "data": {
            "text/plain": [
              "-3*x3*(1 - x2)"
            ],
            "text/latex": "$\\displaystyle - 3 x_{3} \\left(1 - x_{2}\\right)$"
          },
          "metadata": {}
        },
        {
          "output_type": "display_data",
          "data": {
            "text/plain": [
              "0"
            ],
            "text/latex": "$\\displaystyle 0$"
          },
          "metadata": {}
        },
        {
          "output_type": "execute_result",
          "data": {
            "text/plain": [
              "-2*x1*(1 - x2) + 8*x1*(1 - x3) - 2*x2*(1 - x1) - 3*x2*(1 - x3) + 8*x3*(1 - x1) - 3*x3*(1 - x2)"
            ],
            "text/latex": "$\\displaystyle - 2 x_{1} \\left(1 - x_{2}\\right) + 8 x_{1} \\left(1 - x_{3}\\right) - 2 x_{2} \\left(1 - x_{1}\\right) - 3 x_{2} \\left(1 - x_{3}\\right) + 8 x_{3} \\left(1 - x_{1}\\right) - 3 x_{3} \\left(1 - x_{2}\\right)$"
          },
          "metadata": {},
          "execution_count": 9
        }
      ]
    },
    {
      "cell_type": "code",
      "source": [
        "simplified_qubo = simplify(qubo_expr)\n",
        "simplified_qubo"
      ],
      "metadata": {
        "colab": {
          "base_uri": "https://localhost:8080/",
          "height": 38
        },
        "id": "xfsokItp9E7O",
        "outputId": "15a34f72-4b10-44a4-8270-f3586e4438f4"
      },
      "execution_count": 10,
      "outputs": [
        {
          "output_type": "execute_result",
          "data": {
            "text/plain": [
              "4*x1*x2 - 16*x1*x3 + 6*x1 + 6*x2*x3 - 5*x2 + 5*x3"
            ],
            "text/latex": "$\\displaystyle 4 x_{1} x_{2} - 16 x_{1} x_{3} + 6 x_{1} + 6 x_{2} x_{3} - 5 x_{2} + 5 x_{3}$"
          },
          "metadata": {},
          "execution_count": 10
        }
      ]
    },
    {
      "cell_type": "code",
      "source": [
        "# Extract coefficients for QUBO matrix\n",
        "Q = Matrix.zeros(n, n)\n",
        "for term in simplified_qubo.as_ordered_terms():\n",
        "    coeff = term.as_coeff_mul()[0]\n",
        "    variables = term.free_symbols\n",
        "    if len(variables) == 1:  # Diagonal terms (linear coefficients)\n",
        "        var = list(variables)[0]\n",
        "        idx = int(str(var)[1:]) - 1\n",
        "        Q[idx, idx] += coeff\n",
        "    elif len(variables) == 2:  # Off-diagonal terms (quadratic coefficients)\n",
        "        var1, var2 = sorted(variables, key=lambda v: int(str(v)[1:]))\n",
        "        idx1, idx2 = int(str(var1)[1:]) - 1, int(str(var2)[1:]) - 1\n",
        "        Q[idx1, idx2] += coeff / 2  # Account for symmetry\n",
        "        Q[idx2, idx1] += coeff / 2\n",
        "Q"
      ],
      "metadata": {
        "colab": {
          "base_uri": "https://localhost:8080/",
          "height": 78
        },
        "id": "Mg1C7xgg6mKX",
        "outputId": "91b741dc-08b3-48cf-973c-1a1a54ddc139"
      },
      "execution_count": 11,
      "outputs": [
        {
          "output_type": "execute_result",
          "data": {
            "text/plain": [
              "Matrix([\n",
              "[ 6,  2, -8],\n",
              "[ 2, -5,  3],\n",
              "[-8,  3,  5]])"
            ],
            "text/latex": "$\\displaystyle \\left[\\begin{matrix}6 & 2 & -8\\\\2 & -5 & 3\\\\-8 & 3 & 5\\end{matrix}\\right]$"
          },
          "metadata": {},
          "execution_count": 11
        }
      ]
    },
    {
      "cell_type": "markdown",
      "source": [
        "# Solving the QUBO Problem\n",
        "\n",
        "The goal is to find a binary vector $x$ such that:\n",
        "$$\n",
        "\\min_x\\ x^T Q x\n",
        "$$\n",
        "\n",
        "We will evaluate all possible binary vectors $ x $ (for small problem sizes) and compute the cost function value for each.\n"
      ],
      "metadata": {
        "id": "l3vAts_OCR6x"
      }
    },
    {
      "cell_type": "code",
      "source": [
        "n = Q.shape[0]\n",
        "x_symbols = symbols(f\"x1:{n+1}\")\n",
        "all_possible_vectors = [Matrix([int(b) for b in f\"{i:0{n}b}\"]) for i in range(2**n)]\n",
        "min_cost = float('inf')\n",
        "optimal_vector = None\n",
        "for x in all_possible_vectors:\n",
        "    cost = (x.T * Q * x)[0]  # Evaluate cost function\n",
        "    print(x, cost)\n",
        "    if cost < min_cost:\n",
        "        min_cost = cost\n",
        "        optimal_vector = x"
      ],
      "metadata": {
        "colab": {
          "base_uri": "https://localhost:8080/"
        },
        "id": "zitS-UVg_Mtd",
        "outputId": "4006abd4-a3d2-43f1-8e30-8d2c00a22079"
      },
      "execution_count": 12,
      "outputs": [
        {
          "output_type": "stream",
          "name": "stdout",
          "text": [
            "Matrix([[0], [0], [0]]) 0\n",
            "Matrix([[0], [0], [1]]) 5\n",
            "Matrix([[0], [1], [0]]) -5\n",
            "Matrix([[0], [1], [1]]) 6\n",
            "Matrix([[1], [0], [0]]) 6\n",
            "Matrix([[1], [0], [1]]) -5\n",
            "Matrix([[1], [1], [0]]) 5\n",
            "Matrix([[1], [1], [1]]) 0\n"
          ]
        }
      ]
    },
    {
      "cell_type": "code",
      "source": [
        "optimal_vector, min_cost"
      ],
      "metadata": {
        "colab": {
          "base_uri": "https://localhost:8080/"
        },
        "id": "fSrbEXVG_VS1",
        "outputId": "abb96be0-059b-44f9-97c1-d82319c3772f"
      },
      "execution_count": 13,
      "outputs": [
        {
          "output_type": "execute_result",
          "data": {
            "text/plain": [
              "(Matrix([\n",
              " [0],\n",
              " [1],\n",
              " [0]]),\n",
              " -5)"
            ]
          },
          "metadata": {},
          "execution_count": 13
        }
      ]
    },
    {
      "cell_type": "markdown",
      "source": [
        "# Visualization of the Optimal Cut\n",
        "\n",
        "The optimal binary vector partitions the graph into two sets:\n",
        "- Nodes with $ x_i = 0 $\n",
        "- Nodes with $ x_i = 1 $\n",
        "\n",
        "We can highlight the edges in the cut using different colors.\n"
      ],
      "metadata": {
        "id": "VIpMQS5zFLdC"
      }
    },
    {
      "cell_type": "code",
      "source": [
        "# Identify nodes in each partition\n",
        "partition_0 = [i + 1 for i, val in enumerate(optimal_vector) if val == 0]\n",
        "partition_1 = [i + 1 for i, val in enumerate(optimal_vector) if val == 1]\n",
        "\n",
        "# Assign colors to nodes based on partition\n",
        "node_colors = []\n",
        "for node in G.nodes:\n",
        "    if node in partition_0:\n",
        "        node_colors.append(\"green\")  # Nodes in partition 0\n",
        "    elif node in partition_1:\n",
        "        node_colors.append(\"blue\")   # Nodes in partition 1\n",
        "\n",
        "# Highlight the edges in the cut\n",
        "cut_edges = [(u, v) for u, v in G.edges if (u in partition_0 and v in partition_1) or (u in partition_1 and v in partition_0)]\n",
        "\n",
        "# Plot the graph with node colors and cut edges\n",
        "plt.figure(figsize=(4, 4))\n",
        "nx.draw(G, pos, with_labels=True, node_color=node_colors, node_size=1000)\n",
        "nx.draw_networkx_edges(G, pos, edgelist=cut_edges, edge_color=\"red\", width=2)\n",
        "labels = nx.get_edge_attributes(G, 'weight')\n",
        "nx.draw_networkx_edge_labels(G, pos, edge_labels=labels, font_size=12)\n",
        "plt.title(\"Partitioned Graph with Cut Edges\")\n",
        "plt.show()\n"
      ],
      "metadata": {
        "colab": {
          "base_uri": "https://localhost:8080/",
          "height": 459
        },
        "id": "Ma7pU2N0AVSt",
        "outputId": "88cfcf59-ac2a-403a-dcdb-11b28628d0a2"
      },
      "execution_count": 26,
      "outputs": [
        {
          "output_type": "display_data",
          "data": {
            "text/plain": [
              "<Figure size 400x400 with 1 Axes>"
            ],
            "image/png": "[encoded data removed]"
          },
          "metadata": {}
        }
      ]
    },
    {
      "cell_type": "code",
      "source": [],
      "metadata": {
        "id": "rH5-gOp0lxNA"
      },
      "execution_count": 19,
      "outputs": []
    },
    {
      "cell_type": "code",
      "source": [
        "from pyqubo import Array, solve_qubo\n",
        "import numpy as np"
      ],
      "metadata": {
        "id": "R8_xNKL6lxK7"
      },
      "execution_count": 20,
      "outputs": []
    },
    {
      "cell_type": "code",
      "source": [
        "# Create binary variables\n",
        "x = Array.create('x', shape=Q.shape[0], vartype='BINARY')\n",
        "\n",
        "# Formulate the QUBO model\n",
        "qubo_model = sum(Q[i, j] * x[i] * x[j] for i in range(Q.shape[0]) for j in range(Q.shape[1]))\n",
        "qubo_model = qubo_model.compile()\n",
        "\n",
        "# Generate the QUBO dictionary\n",
        "qubo, offset = qubo_model.to_qubo()\n",
        "\n",
        "# Solve the QUBO problem using the default solver\n",
        "solution = solve_qubo(qubo)\n",
        "\n",
        "# Extract results\n",
        "optimal_solution = np.array([solution[f'x[{i}]'] for i in range(Q.shape[0])])\n",
        "print(\"Optimal solution (binary vector):\", optimal_solution)\n",
        "print(\"Optimal cost:\", sum(Q[i, j] * optimal_solution[i] * optimal_solution[j] for i in range(Q.shape[0]) for j in range(Q.shape[1])))"
      ],
      "metadata": {
        "colab": {
          "base_uri": "https://localhost:8080/"
        },
        "id": "M2DzfFLp0XJb",
        "outputId": "b5f4cd62-4224-48dc-9142-4533519e0798"
      },
      "execution_count": 21,
      "outputs": [
        {
          "output_type": "stream",
          "name": "stdout",
          "text": [
            "Optimal solution (binary vector): [1 0 1]\n",
            "Optimal cost: -5\n"
          ]
        },
        {
          "output_type": "stream",
          "name": "stderr",
          "text": [
            "<ipython-input-21-3e0575ab8162>:12: DeprecationWarning: Call to deprecated function (or staticmethod) solve_qubo. (You should use simulated annealing sampler of dwave-neal directly.) -- Deprecated since version 0.4.0.\n",
            "  solution = solve_qubo(qubo)\n"
          ]
        }
      ]
    },
    {
      "cell_type": "code",
      "source": [],
      "metadata": {
        "id": "Bu2fFx9C4kbu"
      },
      "execution_count": null,
      "outputs": []
    },
    {
      "cell_type": "code",
      "source": [
        "import gurobipy as gp\n",
        "from gurobipy import GRB"
      ],
      "metadata": {
        "id": "-yVCiatd4UqV"
      },
      "execution_count": 24,
      "outputs": []
    },
    {
      "cell_type": "code",
      "source": [
        "# Initialize Gurobi model\n",
        "model = gp.Model(\"QUBO\")\n",
        "\n",
        "# Create binary variables\n",
        "n = Q.shape[0]\n",
        "x = model.addVars(n, vtype=GRB.BINARY, name=\"x\")\n",
        "\n",
        "# Add the objective function\n",
        "objective = gp.QuadExpr()\n",
        "for i in range(n):\n",
        "    for j in range(n):\n",
        "        objective += Q[i, j] * x[i] * x[j]\n",
        "\n",
        "model.setObjective(objective, GRB.MINIMIZE)\n",
        "\n",
        "# Optimize the model\n",
        "model.optimize()\n",
        "\n",
        "# Extract the optimal solution\n",
        "optimal_solution = np.array([x[i].x for i in range(n)])\n",
        "print(\"Optimal solution (binary vector):\", optimal_solution)\n",
        "print(\"Optimal cost:\", model.objVal)"
      ],
      "metadata": {
        "id": "d5EgBz_U0XG9"
      },
      "execution_count": null,
      "outputs": []
    },
    {
      "cell_type": "code",
      "source": [],
      "metadata": {
        "id": "p_GpHHgt4NOD"
      },
      "execution_count": null,
      "outputs": []
    },
    {
      "cell_type": "code",
      "source": [],
      "metadata": {
        "id": "IBokHiWV4NLO"
      },
      "execution_count": null,
      "outputs": []
    }
  ]
}